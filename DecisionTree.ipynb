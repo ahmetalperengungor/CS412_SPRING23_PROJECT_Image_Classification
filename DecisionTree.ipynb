{
  "cells": [
    {
      "cell_type": "markdown",
      "source": [
        "Ahmet Alperen Gungor, 28847\n",
        "Elifnur Ozturk, 28857 \n",
        "Ayse Sena Acar, 29506\n",
        "Baris Bakirdoven, 29028"
      ],
      "metadata": {
        "id": "hKta4qoqfa3_"
      }
    },
    {
      "cell_type": "code",
      "execution_count": null,
      "metadata": {
        "colab": {
          "base_uri": "https://localhost:8080/"
        },
        "id": "Ei_wrnAi-whF",
        "outputId": "6b6bc483-11a0-45c8-a30d-fefe391e89d2"
      },
      "outputs": [
        {
          "output_type": "stream",
          "name": "stdout",
          "text": [
            "Mounted at ./drive\n"
          ]
        }
      ],
      "source": [
        "from google.colab import drive\n",
        "drive.mount(\"./drive\")"
      ]
    },
    {
      "cell_type": "code",
      "execution_count": null,
      "metadata": {
        "id": "44bIt833-ubU"
      },
      "outputs": [],
      "source": [
        "from sklearn.tree import DecisionTreeClassifier\n",
        "from sklearn.metrics import accuracy_score\n",
        "from keras.datasets import cifar10\n",
        "import numpy as np\n",
        "import pickle\n",
        "import tensorflow as tf\n",
        "from tensorflow.keras import datasets, layers, models\n",
        "import matplotlib.pyplot as plt\n"
      ]
    },
    {
      "cell_type": "code",
      "execution_count": null,
      "metadata": {
        "id": "IljrHW6d-edN"
      },
      "outputs": [],
      "source": [
        "# Function to load each batch file\n",
        "def load_cifar_batch(file):\n",
        "    with open(\"./drive/My Drive/dataset/\" + file, 'rb') as fo:\n",
        "        dict = pickle.load(fo, encoding='bytes')\n",
        "    return dict[b'data'], dict[b'labels']\n",
        "\n",
        "# Define batch files\n",
        "batch_files = ['data_batch_1', 'data_batch_2', 'data_batch_3', 'data_batch_4', 'data_batch_5']"
      ]
    },
    {
      "cell_type": "code",
      "execution_count": null,
      "metadata": {
        "id": "zj05DLzZ-o_k"
      },
      "outputs": [],
      "source": [
        "best_params = None\n",
        "best_accuracy = 0\n",
        "max_depth_values = [10, 20, 30, None] # the max depth values we will try"
      ]
    },
    {
      "cell_type": "code",
      "source": [
        "accuracy_scores = []\n",
        "# Perform 5-fold cross-validation\n",
        "for max_depth in max_depth_values:\n",
        "    fold_accuracies = []\n",
        "\n",
        "    for i in range(len(batch_files)):\n",
        "        # Create a new list without the i-th batch file\n",
        "        train_files = batch_files[:i] + batch_files[i+1:]\n",
        "\n",
        "        # Load, reshape and combine training data batches\n",
        "        X_train = np.concatenate([load_cifar_batch(batch)[0].reshape(-1, 3 * 32 * 32) / 255.0 for batch in train_files])\n",
        "        y_train = np.concatenate([load_cifar_batch(batch)[1] for batch in train_files])\n",
        "\n",
        "        # Load and reshape validation data batch\n",
        "        X_val = load_cifar_batch(batch_files[i])[0].reshape(-1, 3 * 32 * 32) / 255.0\n",
        "        y_val = load_cifar_batch(batch_files[i])[1]\n",
        "\n",
        "        # Train a Decision Tree model\n",
        "        dt = DecisionTreeClassifier(max_depth=max_depth)\n",
        "        dt.fit(X_train, y_train)\n",
        "\n",
        "        # Validate the model\n",
        "        val_preds = dt.predict(X_val)\n",
        "        val_accuracy = accuracy_score(y_val, val_preds)\n",
        "\n",
        "        fold_accuracies.append(val_accuracy)\n",
        "\n",
        "    # Compute the mean accuracy over the 5 folds\n",
        "    mean_accuracy = np.mean(fold_accuracies)\n",
        "\n",
        "    accuracy_scores.append(mean_accuracy)\n",
        "\n",
        "    # Update the best parameters if this configuration is better\n",
        "    if mean_accuracy > best_accuracy:\n",
        "        best_accuracy = mean_accuracy\n",
        "        best_params = max_depth\n",
        "\n",
        "    print(f\"max_depth = {max_depth}, Validation Accuracy = {mean_accuracy}\")\n",
        "\n",
        "print(f\"Best hyperparameters: max_depth = {best_params}, Cross-Validation Accuracy = {best_accuracy}\")\n"
      ],
      "metadata": {
        "colab": {
          "base_uri": "https://localhost:8080/"
        },
        "id": "bWvKkVxjCFef",
        "outputId": "468d75c2-a2d0-499a-f562-9797ae1941df"
      },
      "execution_count": null,
      "outputs": [
        {
          "output_type": "stream",
          "name": "stdout",
          "text": [
            "max_depth = 10, Validation Accuracy = 0.29188000000000003\n",
            "max_depth = 20, Validation Accuracy = 0.26268\n",
            "max_depth = 30, Validation Accuracy = 0.2605\n",
            "max_depth = None, Validation Accuracy = 0.26083999999999996\n",
            "Best hyperparameters: max_depth = 10, Cross-Validation Accuracy = 0.29188000000000003\n"
          ]
        }
      ]
    },
    {
      "cell_type": "code",
      "source": [
        "# Now, use the best hyperparameters to train a model on all the training data\n",
        "X_train_combined = np.concatenate([load_cifar_batch(batch)[0].reshape(-1, 3 * 32 * 32) / 255.0 for batch in batch_files])\n",
        "y_train_combined = np.concatenate([load_cifar_batch(batch)[1] for batch in batch_files])\n",
        "\n",
        "dt_final = DecisionTreeClassifier(max_depth=best_params)\n",
        "dt_final.fit(X_train_combined, y_train_combined)\n",
        "\n",
        "# Load the test batch\n",
        "test_batch = load_cifar_batch('test_batch')\n",
        "\n",
        "# reshape test data and labels\n",
        "X_test = test_batch[0].reshape(-1, 3 * 32 * 32) / 255.0\n",
        "y_test = test_batch[1]\n",
        "\n",
        "# Test the final model\n",
        "test_preds = dt_final.predict(X_test)\n",
        "test_accuracy = accuracy_score(y_test, test_preds)\n",
        "\n",
        "print(f\"Test Accuracy: {test_accuracy}\")"
      ],
      "metadata": {
        "colab": {
          "base_uri": "https://localhost:8080/"
        },
        "id": "CiVYLezKB48c",
        "outputId": "57c0d978-d0e4-4e13-f256-dc8b830e3303"
      },
      "execution_count": null,
      "outputs": [
        {
          "output_type": "stream",
          "name": "stdout",
          "text": [
            "Test Accuracy: 0.3061\n"
          ]
        }
      ]
    },
    {
      "cell_type": "code",
      "source": [
        "# Plot the accuracy scores vs max_depth values\n",
        "plt.plot(max_depth_values, accuracy_scores)\n",
        "plt.xlabel('max_depth')\n",
        "plt.ylabel('accuracy')\n",
        "plt.show()"
      ],
      "metadata": {
        "colab": {
          "base_uri": "https://localhost:8080/",
          "height": 450
        },
        "id": "DqRJi8mUCuE5",
        "outputId": "36150329-ae40-4be6-c8d0-eea2195c261c"
      },
      "execution_count": null,
      "outputs": [
        {
          "output_type": "display_data",
          "data": {
            "text/plain": [
              "<Figure size 640x480 with 1 Axes>"
            ],
            "image/png": "[encoded data removed]"
          },
          "metadata": {}
        }
      ]
    }
  ],
  "metadata": {
    "colab": {
      "provenance": [],
      "gpuType": "T4"
    },
    "kernelspec": {
      "display_name": "Python 3",
      "name": "python3"
    },
    "language_info": {
      "name": "python"
    },
    "accelerator": "GPU"
  },
  "nbformat": 4,
  "nbformat_minor": 0
}