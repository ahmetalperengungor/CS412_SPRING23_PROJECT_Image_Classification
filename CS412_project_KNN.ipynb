{
  "nbformat": 4,
  "nbformat_minor": 0,
  "metadata": {
    "colab": {
      "provenance": []
    },
    "kernelspec": {
      "name": "python3",
      "display_name": "Python 3"
    },
    "language_info": {
      "name": "python"
    }
  },
  "cells": [
    {
      "cell_type": "markdown",
      "source": [
        "Ahmet Alperen Gungor, 28847\n",
        "Elifnur Ozturk, 28857 \n",
        "Ayse Sena Acar, 29506\n",
        "Baris Bakirdoven, 29028"
      ],
      "metadata": {
        "id": "O1dUOq7VgN1U"
      }
    },
    {
      "cell_type": "code",
      "source": [
        "from sklearn.neighbors import KNeighborsClassifier\n",
        "from keras.datasets import cifar10\n",
        "from sklearn.metrics import accuracy_score\n",
        "import numpy as np\n",
        "import pickle\n",
        "import tensorflow as tf"
      ],
      "metadata": {
        "id": "x7fdWUJVnJu1"
      },
      "execution_count": null,
      "outputs": []
    },
    {
      "cell_type": "code",
      "source": [
        "from google.colab import drive\n",
        "drive.mount(\"./drive\")"
      ],
      "metadata": {
        "colab": {
          "base_uri": "https://localhost:8080/"
        },
        "id": "HPVgPDpzoQKJ",
        "outputId": "55a8b13d-f1bb-4434-eaf3-e2e74e070560"
      },
      "execution_count": null,
      "outputs": [
        {
          "output_type": "stream",
          "name": "stdout",
          "text": [
            "Mounted at ./drive\n"
          ]
        }
      ]
    },
    {
      "cell_type": "code",
      "execution_count": null,
      "metadata": {
        "colab": {
          "base_uri": "https://localhost:8080/"
        },
        "id": "MYue00mAnG0A",
        "outputId": "99c77b8f-6943-47bd-bb1d-bd5052ec8033"
      },
      "outputs": [
        {
          "output_type": "stream",
          "name": "stdout",
          "text": [
            "Starting fold 1\n",
            "k =  1 , Accuracy:  0.3358\n",
            "k =  3 , Accuracy:  0.326\n",
            "k =  5 , Accuracy:  0.335\n",
            "k =  7 , Accuracy:  0.34\n",
            "k =  9 , Accuracy:  0.3414\n",
            "Starting fold 2\n",
            "k =  1 , Accuracy:  0.3361\n",
            "k =  3 , Accuracy:  0.3261\n",
            "k =  5 , Accuracy:  0.3297\n",
            "k =  7 , Accuracy:  0.333\n",
            "k =  9 , Accuracy:  0.327\n",
            "Starting fold 3\n",
            "k =  1 , Accuracy:  0.3469\n",
            "k =  3 , Accuracy:  0.328\n",
            "k =  5 , Accuracy:  0.3336\n",
            "k =  7 , Accuracy:  0.3356\n",
            "k =  9 , Accuracy:  0.3345\n",
            "Starting fold 4\n",
            "k =  1 , Accuracy:  0.3346\n",
            "k =  3 , Accuracy:  0.3252\n",
            "k =  5 , Accuracy:  0.334\n",
            "k =  7 , Accuracy:  0.331\n",
            "k =  9 , Accuracy:  0.3368\n",
            "Starting fold 5\n",
            "k =  1 , Accuracy:  0.3383\n",
            "k =  3 , Accuracy:  0.3178\n",
            "k =  5 , Accuracy:  0.3283\n",
            "k =  7 , Accuracy:  0.3237\n",
            "k =  9 , Accuracy:  0.3223\n"
          ]
        }
      ],
      "source": [
        "# Function to load each batch file\n",
        "def load_cifar_batch(file):\n",
        "    with open(\"./drive/My Drive/dataset/\" + file, 'rb') as fo:\n",
        "        dict = pickle.load(fo, encoding='bytes')\n",
        "    return dict[b'data'], dict[b'labels']\n",
        "\n",
        "# Define batch files\n",
        "batch_files = ['data_batch_1', 'data_batch_2', 'data_batch_3', 'data_batch_4', 'data_batch_5']\n",
        "\n",
        "# Perform 5-fold cross-validation\n",
        "accuracies = []\n",
        "\n",
        "for i in range(5):\n",
        "    print(f\"Starting fold {i+1}\")\n",
        "    \n",
        "    # Load validation data from the current batch file\n",
        "    x_val, y_val = load_cifar_batch(batch_files[i])\n",
        "    x_val = x_val.reshape(-1, 3, 32, 32).transpose(0,2,3,1) / 255.0\n",
        "    y_val = np.array(y_val)\n",
        "    \n",
        "    # Load training data from the other batch files\n",
        "    x_train = []\n",
        "    y_train = []\n",
        "    for j in range(5):\n",
        "        if j != i:\n",
        "            x_batch, y_batch = load_cifar_batch(batch_files[j])\n",
        "            x_batch = x_batch.reshape(-1, 3, 32, 32).transpose(0,2,3,1) / 255.0\n",
        "            x_train.append(x_batch)\n",
        "            y_train.append(y_batch)\n",
        "    x_train = np.concatenate(x_train)\n",
        "    y_train = np.concatenate(y_train)\n",
        "\n",
        "\n",
        "    X_train = x_train.reshape(x_train.shape[0], -1)\n",
        "    X_val = x_val.reshape(x_val.shape[0], -1)\n",
        "\n",
        "    for n_neighbor in range(1,10):\n",
        "      if(n_neighbor%2 == 1):\n",
        "        knn_model = KNeighborsClassifier(n_neighbors = n_neighbor)\n",
        "        knn_model.fit(X_train, y_train)\n",
        "        \n",
        "        knn_preds = knn_model.predict(X_val)\n",
        "        print(\"k = \", n_neighbor, \", Accuracy: \", accuracy_score(y_val, knn_preds))"
      ]
    },
    {
      "cell_type": "code",
      "source": [
        "# Function to load each batch file\n",
        "def load_cifar_batch(file):\n",
        "    with open(\"./drive/My Drive/dataset/\" + file, 'rb') as fo:\n",
        "        dict = pickle.load(fo, encoding='bytes')\n",
        "    return dict[b'data'], dict[b'labels']\n",
        "\n",
        "# Define batch files\n",
        "batch_files = ['data_batch_1', 'data_batch_2', 'data_batch_3', 'data_batch_4', 'data_batch_5']\n",
        "\n",
        "k1_avg = 0.33834 #k=1 is best\n",
        "k3_avg = 0.32462\n",
        "k5_avg = 0.33212\n",
        "k7_avg = 0.33266\n",
        "k9_avg = 0.3324\n",
        "\n",
        "\n",
        "\n",
        "# Load the test batch\n",
        "test_batch = load_cifar_batch('test_batch')\n",
        "\n",
        "X_test = test_batch[0].reshape(-1, 3, 32, 32).transpose(0,2,3,1) / 255.0\n",
        "y_test = np.array(test_batch[1])\n",
        "\n",
        "\n",
        "# Load, reshape and combine all the training data batches\n",
        "X_train_combined = np.concatenate([load_cifar_batch(batch)[0].reshape(-1, 3, 32, 32).transpose(0,2,3,1) / 255.0 for batch in batch_files])\n",
        "y_train_combined = np.concatenate([np.array(load_cifar_batch(batch)[1]) for batch in batch_files])\n",
        "\n",
        "\n",
        "# train the final KNN model using the best k value\n",
        "knn_model_final = KNeighborsClassifier(n_neighbors=1)\n",
        "knn_model_final.fit(X_train_combined.reshape(X_train_combined.shape[0], -1), y_train_combined)\n",
        "\n",
        "# make predictions on the test data\n",
        "knn_preds_final = knn_model_final.predict(X_test.reshape(X_test.shape[0], -1))\n",
        "\n",
        "# compute the final accuracy\n",
        "final_accuracy = accuracy_score(y_test, knn_preds_final)\n",
        "print(f\"Final accuracy on test data: {final_accuracy}\")\n"
      ],
      "metadata": {
        "colab": {
          "base_uri": "https://localhost:8080/"
        },
        "id": "3JmF-2YblFKH",
        "outputId": "7482cd06-f8d3-49f5-ef17-f6cc1ca0c984"
      },
      "execution_count": null,
      "outputs": [
        {
          "output_type": "stream",
          "name": "stdout",
          "text": [
            "Final accuracy on test data: 0.3539\n"
          ]
        }
      ]
    }
  ]
}